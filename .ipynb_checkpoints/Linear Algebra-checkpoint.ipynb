{
 "cells": [
  {
   "cell_type": "markdown",
   "metadata": {},
   "source": [
    "<h1>Linear Algebra Algorithms</h1>"
   ]
  },
  {
   "cell_type": "markdown",
   "metadata": {},
   "source": [
    "<h2>Vector and Matrix Operations</h2>"
   ]
  },
  {
   "cell_type": "code",
   "execution_count": 1,
   "metadata": {},
   "outputs": [],
   "source": [
    "def vector_plus(a, b):\n",
    "    if(len(a) != len(b)):\n",
    "        print(\"vectors not same dimension!\")\n",
    "    else:\n",
    "        c = []\n",
    "        for i in range(0, len(a)):\n",
    "            c.append(a[i] + b[i])\n",
    "        return c"
   ]
  },
  {
   "cell_type": "markdown",
   "metadata": {},
   "source": [
    "<h3>Dot Product</h3>"
   ]
  },
  {
   "cell_type": "code",
   "execution_count": 2,
   "metadata": {},
   "outputs": [],
   "source": [
    "# Dot product finds the Euclidean magnitude of two vectors and the cosine between them\n",
    "def dot(a, b):\n",
    "    if(len(a) != len(b)):\n",
    "        print(\"vectors not same dimension!\")\n",
    "    else:\n",
    "        c = 0\n",
    "        for i in range(0, len(a)):\n",
    "            c += a[i] * b[i]\n",
    "        return c"
   ]
  },
  {
   "cell_type": "code",
   "execution_count": 3,
   "metadata": {},
   "outputs": [],
   "source": [
    "def scalar_mul(v, s):\n",
    "    for i in range(len(v)):\n",
    "        v[i] *= s\n",
    "    return v    \n",
    "    "
   ]
  },
  {
   "cell_type": "markdown",
   "metadata": {},
   "source": [
    "<h3>Vector Transformation<h3>"
   ]
  },
  {
   "cell_type": "code",
   "execution_count": 4,
   "metadata": {},
   "outputs": [],
   "source": [
    "def mat_vec_mul(m, v):\n",
    "    _m = []\n",
    "    __v = [0] * len(m[0])\n",
    "    for i in range(len(m)):\n",
    "        _v = []\n",
    "        for j in range(len(m[i])):\n",
    "            _v.append(m[i][j] * v[i])\n",
    "        _m.append(_v)\n",
    "    for i in range(len(_m)):\n",
    "        __v = vector_plus(__v, _m[i])\n",
    "    return __v"
   ]
  },
  {
   "cell_type": "markdown",
   "metadata": {},
   "source": [
    "<h3>Matrix Multiplication</h3>"
   ]
  },
  {
   "cell_type": "code",
   "execution_count": 5,
   "metadata": {},
   "outputs": [],
   "source": [
    "def mat_mul(m1, m2):\n",
    "    _m = []\n",
    "    for i in range(len(m2)):\n",
    "        _m.append(mat_vec_mul(m1, m2[i]))\n",
    "    return _m"
   ]
  },
  {
   "cell_type": "markdown",
   "metadata": {},
   "source": [
    "<h2>Gaussian Elimination</h2>"
   ]
  },
  {
   "cell_type": "code",
   "execution_count": 6,
   "metadata": {},
   "outputs": [],
   "source": [
    "def add_row(m, a, b, z):\n",
    "    for i in range(len(m)):\n",
    "        m[i][a] += m[i][b] * z\n",
    "        \n",
    "def simplify_row(m, a, z):\n",
    "    for i in range(len(m)):\n",
    "        m[i][a] /= z"
   ]
  },
  {
   "cell_type": "code",
   "execution_count": 7,
   "metadata": {},
   "outputs": [],
   "source": [
    "def gauss(M, b):\n",
    "    \n",
    "    #augmented matrix that combines the matrix M and the vector b\n",
    "    M.append(b)\n",
    "    \n",
    "    #downward elimination\n",
    "    #eliminate all numbers below the pivot [i][i]\n",
    "    for i in range(len(M[0])):\n",
    "        for j in range(i+1, len(M[i])):\n",
    "            f = (-M[i][j])/M[i][i]\n",
    "            add_row(M, j, i, f)\n",
    "            \n",
    "    #backsubstitution\n",
    "    #start from the bottom\n",
    "    for i in range(len(M[0])-1, -1, -1):\n",
    "        #reduce coefficient to 1\n",
    "        simplify_row(M, i, M[i][i])\n",
    "        \n",
    "        #if not the first row,\n",
    "        if i > 0:\n",
    "            \n",
    "            #use all the lower rows to substitute into above row\n",
    "            for j in range(len(M[0])-1, i-1, -1):\n",
    "                f = (-M[j][i-1])/M[j][j]\n",
    "                add_row(M, i-1, j, f)\n",
    "    return M"
   ]
  },
  {
   "cell_type": "code",
   "execution_count": 8,
   "metadata": {
    "scrolled": false
   },
   "outputs": [
    {
     "data": {
      "text/plain": [
       "[[1.0, 0.0, -0.0], [0.0, 1.0, -0.0], [0.0, 0.0, 1.0], [5.0, 4.0, 2.0]]"
      ]
     },
     "execution_count": 8,
     "metadata": {},
     "output_type": "execute_result"
    }
   ],
   "source": [
    "gauss([[1, 1, 1], [1, 2, 1], [3, 4, 2]], [15, 21, 13])"
   ]
  },
  {
   "cell_type": "markdown",
   "metadata": {},
   "source": [
    "<h2>Einstein Summation</h2>"
   ]
  },
  {
   "cell_type": "code",
   "execution_count": 9,
   "metadata": {},
   "outputs": [],
   "source": [
    "def ein_sum(A, B, i, k):\n",
    "    _vs = len(A)\n",
    "    _sum = 0;\n",
    "    \n",
    "    for x in range(_vs):\n",
    "        _sum += A[x][i] * B[k][x]\n",
    "    \n",
    "    return _sum\n",
    "    "
   ]
  },
  {
   "cell_type": "markdown",
   "metadata": {},
   "source": [
    "<h2>Transpose</h2>"
   ]
  },
  {
   "cell_type": "code",
   "execution_count": 10,
   "metadata": {},
   "outputs": [],
   "source": [
    "def transpose(M):\n",
    "    #can use to find inverse if Matrix is orthogonal\n",
    "    _M = []\n",
    "    \n",
    "    for v in M[0]:\n",
    "        _M.append([])\n",
    "    \n",
    "    for i in range(len(_M)):\n",
    "        for j in range(len(M)):\n",
    "            _M[i].append(M[j][i])\n",
    "        \n",
    "    return _M"
   ]
  },
  {
   "cell_type": "code",
   "execution_count": 11,
   "metadata": {
    "scrolled": true
   },
   "outputs": [
    {
     "data": {
      "text/plain": [
       "[[-3, 2, -1], [6, -6, 7], [3, 4, 4], [5, 9, 4]]"
      ]
     },
     "execution_count": 11,
     "metadata": {},
     "output_type": "execute_result"
    }
   ],
   "source": [
    "transpose([[-3, 6, 3, 5], [2, -6, 4, 9], [-1, 7, 4, 4]])"
   ]
  },
  {
   "cell_type": "markdown",
   "metadata": {},
   "source": [
    "<h2> Orthonormal Basis</h2>"
   ]
  },
  {
   "cell_type": "code",
   "execution_count": 12,
   "metadata": {},
   "outputs": [],
   "source": [
    "import math\n",
    "\n",
    "def norm(v):\n",
    "    total = 0;\n",
    "    for i in v:\n",
    "        total += i**2;\n",
    "    return math.sqrt(total)\n",
    "\n",
    "def normalize(v):\n",
    "    vn = norm(v)\n",
    "    _v = []\n",
    "    for i in v:\n",
    "        _v.append(i / vn)\n",
    "    return _v\n"
   ]
  },
  {
   "cell_type": "code",
   "execution_count": 13,
   "metadata": {},
   "outputs": [
    {
     "ename": "SyntaxError",
     "evalue": "unexpected EOF while parsing (<ipython-input-13-cc4e01db5409>, line 6)",
     "output_type": "error",
     "traceback": [
      "\u001b[1;36m  File \u001b[1;32m\"<ipython-input-13-cc4e01db5409>\"\u001b[1;36m, line \u001b[1;32m6\u001b[0m\n\u001b[1;33m    \u001b[0m\n\u001b[1;37m    ^\u001b[0m\n\u001b[1;31mSyntaxError\u001b[0m\u001b[1;31m:\u001b[0m unexpected EOF while parsing\n"
     ]
    }
   ],
   "source": [
    "def orthonormal_basis(M):\n",
    "    for i in range(len(M)):\n",
    "        #adjust\n",
    "        \n",
    "        #normalize\n",
    "    "
   ]
  },
  {
   "cell_type": "code",
   "execution_count": 14,
   "metadata": {},
   "outputs": [
    {
     "data": {
      "text/plain": [
       "[0.5144957554275266, 0.8574929257125442]"
      ]
     },
     "execution_count": 14,
     "metadata": {},
     "output_type": "execute_result"
    }
   ],
   "source": [
    "normalize([15, 25])"
   ]
  },
  {
   "cell_type": "markdown",
   "metadata": {},
   "source": [
    "<h2>Eigen Values and Eigen Vectors</h2>"
   ]
  },
  {
   "cell_type": "code",
   "execution_count": null,
   "metadata": {},
   "outputs": [],
   "source": []
  },
  {
   "cell_type": "markdown",
   "metadata": {},
   "source": [
    "<h2>Mean and Variance</h2>"
   ]
  },
  {
   "cell_type": "code",
   "execution_count": 15,
   "metadata": {},
   "outputs": [],
   "source": [
    "def mean(D):\n",
    "    return\n",
    "\n",
    "def variance(D):\n",
    "    return\n",
    "\n",
    "def sd(D):\n",
    "    return"
   ]
  },
  {
   "cell_type": "code",
   "execution_count": null,
   "metadata": {},
   "outputs": [],
   "source": []
  },
  {
   "cell_type": "markdown",
   "metadata": {},
   "source": [
    "<h2>Covariance</h2>"
   ]
  },
  {
   "cell_type": "code",
   "execution_count": null,
   "metadata": {},
   "outputs": [],
   "source": [
    "def covariance(D):\n",
    "    "
   ]
  }
 ],
 "metadata": {
  "kernelspec": {
   "display_name": "Python 3",
   "language": "python",
   "name": "python3"
  },
  "language_info": {
   "codemirror_mode": {
    "name": "ipython",
    "version": 3
   },
   "file_extension": ".py",
   "mimetype": "text/x-python",
   "name": "python",
   "nbconvert_exporter": "python",
   "pygments_lexer": "ipython3",
   "version": "3.7.6"
  }
 },
 "nbformat": 4,
 "nbformat_minor": 4
}
